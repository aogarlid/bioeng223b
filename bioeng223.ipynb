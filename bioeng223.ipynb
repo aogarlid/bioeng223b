{
 "cells": [
  {
   "cell_type": "code",
   "execution_count": 19,
   "metadata": {},
   "outputs": [
    {
     "name": "stdout",
     "output_type": "stream",
     "text": [
      "<class 'numpy.ndarray'>\n",
      "(512, 512)\n"
     ]
    }
   ],
   "source": [
    "'''\n",
    "load images into python\n",
    "determine whether images are greyscale\n",
    "convert to greyscale if RGB\n",
    "file i/o to load images, matrix manipulation, standardization\n",
    "'''\n",
    "\n",
    "import PIL\n",
    "import os\n",
    "from skimage.io import imread_collection\n",
    "\n",
    "dir_name = 'NeedleImages/'\n",
    "imgs = []\n",
    "greyscale = []\n",
    "\n",
    "# create a collection with the available images\n",
    "col = imread_collection(os.path.join(dir_name, '*.jpg'))\n",
    "\n",
    "# select one image for analysis\n",
    "im = col[140]\n",
    "\n",
    "# determine image type and shape\n",
    "print(type(im))\n",
    "print(im.shape)\n",
    "\n",
    "# create list of .jpg files in img directory\n",
    "for root, dirs, files in os.walk(dir_name):\n",
    "    for file in files:\n",
    "        if file.endswith('.jpg'):\n",
    "            imgs.append(file)\n",
    "\n",
    "# create function to test whether images are greyscale\n",
    "def is_grey_scale(img_path):\n",
    "    im = PIL.Image.open(img_path).convert('RGB')\n",
    "    w,h = im.size\n",
    "    for i in range(w):\n",
    "        for j in range(h):\n",
    "            r,g,b = im.getpixel((i,j))\n",
    "            if r != g != b:\n",
    "                return False\n",
    "    return True\n",
    "\n",
    "# test set of images for greyscale\n",
    "for i in imgs:\n",
    "    img = os.path.join(dir_name, i)\n",
    "    greyscale.append(is_grey_scale(img))\n"
   ]
  },
  {
   "cell_type": "code",
   "execution_count": 30,
   "metadata": {},
   "outputs": [],
   "source": [
    "'''\n",
    "create separator to move images to folders based on labels\n",
    "'''\n",
    "\n",
    "import csv\n",
    "import os\n",
    "\n",
    "SOURCE_ROOT = 'NeedleImages'\n",
    "DEST_ROOT = 'train'\n",
    "\n",
    "with open('train/labels_simple.csv') as infile:\n",
    "    next(infile)  # Skip the header row\n",
    "    reader = csv.reader(infile)\n",
    "    seen = set()\n",
    "    for filename, label in reader:\n",
    "\n",
    "        src = os.path.join(SOURCE_ROOT, filename)\n",
    "        dest = os.path.join(DEST_ROOT, label, filename)\n",
    "\n",
    "        try:\n",
    "            os.rename(src, dest)\n",
    "        except WindowsError as e:\n",
    "            print (e)"
   ]
  },
  {
   "cell_type": "code",
   "execution_count": null,
   "metadata": {},
   "outputs": [],
   "source": [
    "'''\n",
    "setup keras machine learning architecture\n",
    "'''\n",
    "\n",
    "from keras.preprocessing.image import ImageDataGenerator\n",
    "from keras.models import Sequential\n",
    "from keras.layers import Convolution2D, MaxPooling2D\n",
    "from keras.layers import Activation, Dropout, Flatten, Dense\n",
    "\n",
    "# expected image size\n",
    "img_width, img_height = 512, 512\n",
    "\n",
    "# folder containing the images on which the network will train. The train folder \n",
    "# has two sub folders, 'yes' and 'no' needle-containing images.\n",
    "train_data_dir = 'data/train'\n",
    "\n",
    "# folder containing the validation samples folder structure is same as the training folder\n",
    "validation_data_dir = 'data/validation'\n",
    "\n",
    "# how many images to be considered for training\n",
    "train_samples = 2000\n",
    "\n",
    "# how many images to be used for validation\n",
    "validation_samples = 800\n",
    "\n",
    "# how many runs will the network make over the training set before starting on validation\n",
    "epoch = 50\n"
   ]
  },
  {
   "cell_type": "code",
   "execution_count": null,
   "metadata": {},
   "outputs": [],
   "source": [
    "'''\n",
    "develop image augmentation scripts to amplify sample size\n",
    "'''\n",
    "\n"
   ]
  }
 ],
 "metadata": {
  "kernelspec": {
   "display_name": "Python 3",
   "language": "python",
   "name": "python3"
  },
  "language_info": {
   "codemirror_mode": {
    "name": "ipython",
    "version": 3
   },
   "file_extension": ".py",
   "mimetype": "text/x-python",
   "name": "python",
   "nbconvert_exporter": "python",
   "pygments_lexer": "ipython3",
   "version": "3.6.8"
  }
 },
 "nbformat": 4,
 "nbformat_minor": 2
}
