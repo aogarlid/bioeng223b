{
 "cells": [
  {
   "cell_type": "code",
   "execution_count": null,
   "metadata": {},
   "outputs": [],
   "source": [
    "'''\n",
    "import_images.py\n",
    "    convert images to gray-scale from rgb\n",
    "    file i/o to load images, matrix manipulation, standardization\n",
    "'''\n",
    "\n",
    "from skimage.color import rgb2gray\n",
    "from skimage.io import imread_collection\n",
    "\n",
    "# set NeedleImages collection path\n",
    "col_dir = 'NeedleImages/*.jpg'\n",
    "# creating a collection with the available images\n",
    "col = imread_collection(col_dir)\n",
    "\n",
    "im = col[4]\n",
    "img = rgb2gray(im)\n",
    "\n"
   ]
  }
 ],
 "metadata": {
  "kernelspec": {
   "display_name": "Python 3",
   "language": "python",
   "name": "python3"
  },
  "language_info": {
   "codemirror_mode": {
    "name": "ipython",
    "version": 3
   },
   "file_extension": ".py",
   "mimetype": "text/x-python",
   "name": "python",
   "nbconvert_exporter": "python",
   "pygments_lexer": "ipython3",
   "version": "3.6.7"
  }
 },
 "nbformat": 4,
 "nbformat_minor": 2
}
