{
 "cells": [
  {
   "cell_type": "code",
   "execution_count": null,
   "metadata": {},
   "outputs": [],
   "source": [
    "'''\n",
    "import_images.py\n",
    "    determine whether images are greyscale\n",
    "    convert to greyscale if RGB\n",
    "    file i/o to load images, matrix manipulation, standardization\n",
    "'''\n",
    "\n",
    "import PIL\n",
    "import os\n",
    "from skimage.io import imread_collection\n",
    "\n",
    "dir_name = 'NeedleImages/'\n",
    "imgs = []\n",
    "greyscale = []\n",
    "\n",
    "# create a collection with the available images\n",
    "col = imread_collection(os.path.join(dir_name, '*.jpg'))\n",
    "\n",
    "# select one image for analysis\n",
    "im = col[140]\n",
    "\n",
    "# determine image type and shape\n",
    "print(type(im))\n",
    "print(im.shape)"
   ]
  },
  {
   "cell_type": "code",
   "execution_count": null,
   "metadata": {},
   "outputs": [],
   "source": [
    "# create list of .jpg files in img directory\n",
    "for root, dirs, files in os.walk(dir_name):\n",
    "    for file in files:\n",
    "        if file.endswith('.jpg'):\n",
    "            imgs.append(file)\n",
    "\n",
    "# create function to test whether images are greyscale\n",
    "def is_grey_scale(img_path):\n",
    "    im = PIL.Image.open(img_path).convert('RGB')\n",
    "    w,h = im.size\n",
    "    for i in range(w):\n",
    "        for j in range(h):\n",
    "            r,g,b = im.getpixel((i,j))\n",
    "            if r != g != b:\n",
    "                return False\n",
    "    return True\n",
    "\n",
    "# test set of images for greyscale\n",
    "for i in imgs:\n",
    "    img = os.path.join(dir_name, i)\n",
    "    greyscale.append(is_grey_scale(img))\n",
    "\n",
    "print(greyscale)\n",
    "print(len(greyscale))\n"
   ]
  }
 ],
 "metadata": {
  "kernelspec": {
   "display_name": "Python 3",
   "language": "python",
   "name": "python3"
  },
  "language_info": {
   "codemirror_mode": {
    "name": "ipython",
    "version": 3
   },
   "file_extension": ".py",
   "mimetype": "text/x-python",
   "name": "python",
   "nbconvert_exporter": "python",
   "pygments_lexer": "ipython3",
   "version": "3.7.1"
  }
 },
 "nbformat": 4,
 "nbformat_minor": 2
}
