{
 "cells": [
  {
   "cell_type": "code",
   "execution_count": 57,
   "metadata": {},
   "outputs": [
    {
     "name": "stdout",
     "output_type": "stream",
     "text": [
      "<class 'numpy.ndarray'>\n",
      "(512, 512)\n",
      "<class 'numpy.ndarray'>\n",
      "(512, 512)\n",
      "(256, 256)\n",
      "[[36 41 46 ... 49 48 43]\n",
      " [37 41 45 ... 46 46 42]\n",
      " [39 41 43 ... 42 44 42]\n",
      " ...\n",
      " [42 42 43 ... 42 42 39]\n",
      " [42 42 43 ... 44 43 38]\n",
      " [38 39 41 ... 48 47 42]]\n",
      "[[ 42  39  37 ...  43  42  41]\n",
      " [ 43  40  37 ...  43  43  41]\n",
      " [ 40  39  37 ...  44  43  42]\n",
      " ...\n",
      " [ 39  39  36 ... 219 217 216]\n",
      " [ 37  39  37 ... 222 222 223]\n",
      " [ 35  39  39 ... 221 222 222]]\n",
      "(512, 512)\n"
     ]
    }
   ],
   "source": [
    "'''\n",
    "load images into python\n",
    "determine shape of image arrays\n",
    "build function to determine whether images are greyscale\n",
    "'''\n",
    "\n",
    "import os\n",
    "import matplotlib.pyplot as plt\n",
    "from skimage import color\n",
    "from skimage.io import imread_collection\n",
    "from skimage.color import rgb2gray\n",
    "from skimage.transform import rescale, resize, downscale_local_mean\n",
    "from PIL import Image\n",
    "\n",
    "dir_name = 'data_base/backup/NeedleImages/'\n",
    "image_list = []\n",
    "greyscale = []\n",
    "image_size = []\n",
    "\n",
    "# create a collection with the available images\n",
    "col = imread_collection(os.path.join(dir_name, '*.jpg'))\n",
    "# select one image for analysis\n",
    "image = col[140]\n",
    "\n",
    "# determine image type and shape\n",
    "print(type(image))\n",
    "print(image.shape)\n",
    "\n",
    "# determine gray image type and shape\n",
    "image_gray = rgb2gray(image)\n",
    "print(type(image_gray))\n",
    "print(image_gray.shape)\n",
    "\n",
    "# list .jpg files in img directory\n",
    "for root, dirs, files in os.walk(dir_name):\n",
    "    for file in files:\n",
    "        if file.endswith('.jpg'):\n",
    "            image_list.append(file)\n",
    "            \n",
    "\n",
    "image = color.rgb2gray(image)\n",
    "image_rescaled = rescale(image, 1.0 / 2.0, anti_aliasing=False)\n",
    "\n",
    "print(image_rescaled.shape)\n",
    "print(image_gray)\n",
    "\n",
    "img = Image.open(os.path.join(dir_name, image_list[1])) \n",
    "array = np.array(img)\n",
    "print(array)\n",
    "print(array.shape)"
   ]
  },
  {
   "cell_type": "code",
   "execution_count": null,
   "metadata": {},
   "outputs": [],
   "source": [
    "\n",
    "# create function to test whether images are greyscale\n",
    "def is_grey_scale(img_path):\n",
    "    im = PIL.Image.open(img_path).convert('RGB')\n",
    "    w,h = im.size\n",
    "    for i in range(w):\n",
    "        for j in range(h):\n",
    "            r,g,b = im.getpixel((i,j))\n",
    "            if r != g != b:\n",
    "                return False\n",
    "    return True\n",
    "\n",
    "# test set of images for greyscale \n",
    "for i in image_list:\n",
    "    image = os.path.join(dir_name, i)\n",
    "    greyscale.append(is_grey_scale(image))\n",
    "    \n",
    "#print(image_list)\n",
    "#print(greyscale)"
   ]
  },
  {
   "cell_type": "code",
   "execution_count": 58,
   "metadata": {},
   "outputs": [
    {
     "name": "stdout",
     "output_type": "stream",
     "text": [
      "(256, 256, 3)\n"
     ]
    }
   ],
   "source": [
    "'''\n",
    "import, resize, and reshape images\n",
    "'''\n",
    "\n",
    "import os\n",
    "import re\n",
    "import cv2\n",
    "from matplotlib import pyplot\n",
    "import numpy as np\n",
    "\n",
    "dir_name = 'data_base/NeedleImages/'\n",
    "images = []\n",
    "\n",
    "for root, dirnames, filenames in os.walk(dir_name):\n",
    "    for filename in filenames:\n",
    "        if re.search(\"\\.(jpg|jpeg|png|bmp|tiff)$\", filename):\n",
    "            filepath = os.path.join(root, filename)\n",
    "            image = cv2.imread(filepath)\n",
    "            image_resized = cv2.resize(image,(256,256))\n",
    "            images.append(image_resized)\n",
    "\n",
    "images = np.array(images)\n",
    "\n",
    "print(images[1].shape)\n"
   ]
  },
  {
   "cell_type": "code",
   "execution_count": 42,
   "metadata": {},
   "outputs": [
    {
     "name": "stdout",
     "output_type": "stream",
     "text": [
      "(512, 3)\n"
     ]
    }
   ],
   "source": [
    "img = image[1]\n",
    "print(img.shape)\n",
    "\n"
   ]
  },
  {
   "cell_type": "code",
   "execution_count": null,
   "metadata": {},
   "outputs": [],
   "source": [
    "'''\n",
    "create separator to move images to yes/no folders based on labels\n",
    "'''\n",
    "\n",
    "import csv\n",
    "import os\n",
    "\n",
    "SOURCE_ROOT = 'data_base/NeedleImages'\n",
    "DEST_ROOT = 'data_base/'\n",
    "\n",
    "with open('data/labels.csv') as infile:\n",
    "    next(infile)  # Skip the header row\n",
    "    reader = csv.reader(infile)\n",
    "    seen = set()\n",
    "    for Order, External_ID, Label in reader:\n",
    "        src = os.path.join(SOURCE_ROOT, External_ID)\n",
    "        dest = os.path.join(DEST_ROOT, Label, External_ID)\n",
    "        try:\n",
    "            os.rename(src, dest)\n",
    "        except WindowsError as e:\n",
    "            print (e)"
   ]
  },
  {
   "cell_type": "code",
   "execution_count": null,
   "metadata": {},
   "outputs": [],
   "source": [
    "'''\n",
    "setup training, validation, testing splits\n",
    "'''\n",
    "\n",
    "import random\n",
    "\n",
    "yes_dir = 'data_base/yes'\n",
    "no_dir = 'data_base/no'\n",
    "yes_imgs = []\n",
    "no_imgs = []\n",
    "\n",
    "# create list of .jpg files in yes_img directory\n",
    "for root, dirs, files in os.walk(yes_dir):\n",
    "    for file in files:\n",
    "        if file.endswith('.jpg'):\n",
    "            yes_imgs.append(file)\n",
    "\n",
    "yes_imgs.sort()  # make sure that the filenames have a fixed order before shuffling\n",
    "random.seed(42)\n",
    "random.shuffle(yes_imgs) # shuffles the ordering of filenames (deterministic given the chosen seed)\n",
    "\n",
    "split_1 = int(0.8 * len(yes_imgs))\n",
    "split_2 = int(0.9 * len(yes_imgs))\n",
    "train_filenames = yes_imgs[:split_1]\n",
    "val_filenames = yes_imgs[split_1:split_2]\n",
    "test_filenames = yes_imgs[split_2:]\n"
   ]
  },
  {
   "cell_type": "code",
   "execution_count": null,
   "metadata": {},
   "outputs": [],
   "source": [
    "# create list of .jpg files in no_img directory\n",
    "for root, dirs, files in os.walk(no_dir):\n",
    "    for file in files:\n",
    "        if file.endswith('.jpg'):\n",
    "            no_imgs.append(file)\n",
    "\n",
    "no_imgs.sort()  # make sure that the filenames have a fixed order before shuffling\n",
    "random.seed(42)\n",
    "random.shuffle(no_imgs) # shuffles the ordering of filenames (deterministic given the chosen seed)\n",
    "\n",
    "split_1 = int(0.8 * len(no_imgs))\n",
    "split_2 = int(0.9 * len(no_imgs))\n",
    "no_train_filenames = no_imgs[:split_1]\n",
    "no_val_filenames = no_imgs[split_1:split_2]\n",
    "no_test_filenames = no_imgs[split_2:]"
   ]
  },
  {
   "cell_type": "code",
   "execution_count": null,
   "metadata": {},
   "outputs": [],
   "source": [
    "'''\n",
    "create function to move images to appropriate folder for training, validation, and testing\n",
    "'''\n",
    "\n",
    "def move_images(img_list, src_dir, dest_dir):\n",
    "    for img in img_list:\n",
    "        src = os.path.join(src_dir, img)\n",
    "        dest = os.path.join(dest_dir, img)\n",
    "        os.rename(src, dest)\n",
    "\n",
    "# move yes training data\n",
    "move_images(train_filenames, 'data_base/yes/', 'data/train/yes/')\n",
    "# move no training data\n",
    "move_images(no_train_filenames, 'data_base/no/', 'data/train/no/')\n",
    "\n",
    "# move testing data\n",
    "move_images(test_filenames, 'data_base/yes/', 'data/test/yes/')\n",
    "# move no testing data\n",
    "move_images(no_test_filenames, 'data_base/no/', 'data/test/no/')\n",
    "\n",
    "# move validation data\n",
    "move_images(val_filenames, 'data_base/yes/', 'data/validation/yes/')\n",
    "# move no validation data\n",
    "move_images(no_val_filenames, 'data_base/no/', 'data/validation/no/')\n",
    "\n"
   ]
  },
  {
   "cell_type": "code",
   "execution_count": null,
   "metadata": {},
   "outputs": [],
   "source": []
  }
 ],
 "metadata": {
  "kernelspec": {
   "display_name": "Python 3",
   "language": "python",
   "name": "python3"
  },
  "language_info": {
   "codemirror_mode": {
    "name": "ipython",
    "version": 3
   },
   "file_extension": ".py",
   "mimetype": "text/x-python",
   "name": "python",
   "nbconvert_exporter": "python",
   "pygments_lexer": "ipython3",
   "version": "3.6.8"
  }
 },
 "nbformat": 4,
 "nbformat_minor": 2
}
