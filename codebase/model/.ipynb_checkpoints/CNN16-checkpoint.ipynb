{
 "cells": [
  {
   "cell_type": "code",
   "execution_count": 1,
   "metadata": {},
   "outputs": [
    {
     "name": "stderr",
     "output_type": "stream",
     "text": [
      "Using TensorFlow backend.\n"
     ]
    }
   ],
   "source": [
    "# import os, re, and skimage packages to load images\n",
    "import os\n",
    "import re\n",
    "from skimage import io, color\n",
    "from skimage.color import rgb2gray\n",
    "from skimage.io import imread\n",
    "\n",
    "# import matplot for visualizing training results\n",
    "import matplotlib.pyplot as plt  \n",
    "\n",
    "# import keras packages to generate model\n",
    "from keras.preprocessing.image import ImageDataGenerator, array_to_img, img_to_array, load_img\n",
    "from keras.models import Sequential\n",
    "from keras.layers import Conv2D, MaxPooling2D\n",
    "from keras.layers import Activation, Dropout, Flatten, Dense\n",
    "from keras.utils import plot_model\n",
    "from keras.callbacks import History \n",
    "\n"
   ]
  },
  {
   "cell_type": "code",
   "execution_count": 3,
   "metadata": {},
   "outputs": [],
   "source": [
    "'''\n",
    "define import_images function to pull from directory, convert to grayscale, append to list\n",
    "'''\n",
    "def import_images(dir_name, images, image_names):\n",
    "    for root, dirnames, filenames in os.walk(dir_name):\n",
    "        for filename in filenames:\n",
    "            if re.search(\"\\.(jpg|jpeg|png|bmp|tiff)$\", filename):\n",
    "                filepath = os.path.join(root, filename)\n",
    "                image_names.append(filename)\n",
    "                \n",
    "                ## read images and add to list\n",
    "                image = io.imread(fname=filepath)\n",
    "                image_gray = rgb2gray(image)\n",
    "                images.append(image_gray)\n"
   ]
  },
  {
   "cell_type": "code",
   "execution_count": 4,
   "metadata": {},
   "outputs": [
    {
     "name": "stdout",
     "output_type": "stream",
     "text": [
      "1200\n",
      "38\n"
     ]
    }
   ],
   "source": [
    "'''\n",
    "establish expected image parameters, training, validation locations\n",
    "'''\n",
    "\n",
    "# expected image size\n",
    "img_width, img_height = 512, 512\n",
    "\n",
    "# folder containing the images on which the network will train. The train folder \n",
    "# has two sub folders, 'yes' and 'no' needle-containing images.\n",
    "train_data_dir = '../../data_culled/train'\n",
    "\n",
    "# folder containing the validation samples folder structure is same as the training folder\n",
    "validation_data_dir = '../../data_culled/validation'\n",
    "\n",
    "# how many images to be considered for training\n",
    "train_images = []\n",
    "train_names = []\n",
    "import_images(train_data_dir, train_images, train_names)\n",
    "train_samples = len(train_images)\n",
    "print(train_samples)\n",
    "\n",
    "# how many images to be used for validation\n",
    "validation_images = []\n",
    "validation_names = []\n",
    "import_images(validation_data_dir, validation_images, validation_names)\n",
    "validation_samples = len(validation_images)\n",
    "print(validation_samples)\n",
    "\n",
    "# set batch size\n",
    "batch_size = 32\n",
    "\n",
    "# how many runs will the network make over the training set before starting on validation\n",
    "epoch = 15\n"
   ]
  },
  {
   "cell_type": "code",
   "execution_count": 5,
   "metadata": {},
   "outputs": [
    {
     "name": "stdout",
     "output_type": "stream",
     "text": [
      "Found 1200 images belonging to 2 classes.\n",
      "Found 38 images belonging to 2 classes.\n"
     ]
    }
   ],
   "source": [
    "'''\n",
    "run image augmentation procedures\n",
    "'''\n",
    "\n",
    "# augmentation configuration for training\n",
    "train_datagen = ImageDataGenerator(\n",
    "        rescale=1./255,\n",
    "        horizontal_flip=True,\n",
    "        vertical_flip = True,\n",
    "        rotation_range=20)\n",
    "\n",
    "# augmentation configuration for testing:\n",
    "    # only rescaling\n",
    "test_datagen = ImageDataGenerator(rescale=1./255)\n",
    "\n",
    "# this is a generator that will read pictures found in\n",
    "# subfolders of 'data/train', and indefinitely generate\n",
    "# batches of augmented image data\n",
    "train_generator = train_datagen.flow_from_directory(\n",
    "        train_data_dir,\n",
    "        color_mode = 'grayscale',\n",
    "        target_size=(img_width, img_height),\n",
    "        batch_size=batch_size,\n",
    "        class_mode='binary')  # since we use binary_crossentropy loss, we need binary labels\n",
    "\n",
    "# this is a similar generator, for validation data\n",
    "validation_generator = test_datagen.flow_from_directory(\n",
    "        validation_data_dir,\n",
    "        color_mode = 'grayscale',\n",
    "        target_size=(img_width, img_height),\n",
    "        batch_size=batch_size,\n",
    "        class_mode='binary')"
   ]
  },
  {
   "cell_type": "code",
   "execution_count": 6,
   "metadata": {},
   "outputs": [],
   "source": [
    "'''\n",
    "build 16-layer VGG ConvNet\n",
    "'''\n",
    "\n",
    "model = Sequential()\n",
    "model.add(Conv2D(32, (3, 3), input_shape=(img_width, img_height, 1)))\n",
    "model.add(Activation('relu'))\n",
    "model.add(MaxPooling2D(pool_size=(2, 2)))\n",
    "\n",
    "model.add(Conv2D(32, (3, 3)))\n",
    "model.add(Activation('relu'))\n",
    "model.add(MaxPooling2D(pool_size=(2, 2)))\n",
    "\n",
    "model.add(Conv2D(64, (3, 3)))\n",
    "model.add(Activation('relu'))\n",
    "model.add(MaxPooling2D(pool_size=(2, 2)))\n",
    "\n",
    "model.add(Flatten())  # this converts our 3D feature maps to 1D feature vectors\n",
    "model.add(Dense(64))\n",
    "model.add(Activation('relu'))\n",
    "model.add(Dropout(0.5))\n",
    "model.add(Dense(1))\n",
    "model.add(Activation('sigmoid'))\n",
    "\n",
    "model.compile(loss='binary_crossentropy',\n",
    "              optimizer='adam',\n",
    "              metrics=['accuracy'])\n",
    "\n",
    "plot_model(model, to_file='../../output/models/vgg16_model.png')\n"
   ]
  },
  {
   "cell_type": "code",
   "execution_count": 7,
   "metadata": {},
   "outputs": [
    {
     "name": "stdout",
     "output_type": "stream",
     "text": [
      "Epoch 1/15\n",
      "37/37 [==============================] - 33s 902ms/step - loss: 0.7491 - acc: 0.5329 - val_loss: 0.6985 - val_acc: 0.3750\n",
      "Epoch 2/15\n",
      "37/37 [==============================] - 33s 878ms/step - loss: 0.6894 - acc: 0.5557 - val_loss: 0.6952 - val_acc: 0.5000\n",
      "Epoch 3/15\n",
      "37/37 [==============================] - 32s 865ms/step - loss: 0.6768 - acc: 0.5768 - val_loss: 0.7014 - val_acc: 0.4062\n",
      "Epoch 4/15\n",
      "37/37 [==============================] - 32s 870ms/step - loss: 0.6611 - acc: 0.6022 - val_loss: 0.6423 - val_acc: 0.6667\n",
      "Epoch 5/15\n",
      "37/37 [==============================] - 32s 874ms/step - loss: 0.6455 - acc: 0.6351 - val_loss: 0.6981 - val_acc: 0.5938\n",
      "Epoch 6/15\n",
      "37/37 [==============================] - 32s 869ms/step - loss: 0.6379 - acc: 0.6242 - val_loss: 0.5887 - val_acc: 0.6667\n",
      "Epoch 7/15\n",
      "37/37 [==============================] - 32s 874ms/step - loss: 0.5945 - acc: 0.6790 - val_loss: 0.7407 - val_acc: 0.5000\n",
      "Epoch 8/15\n",
      "37/37 [==============================] - 32s 869ms/step - loss: 0.5908 - acc: 0.6816 - val_loss: 0.9384 - val_acc: 0.3333\n",
      "Epoch 9/15\n",
      "37/37 [==============================] - 32s 873ms/step - loss: 0.5975 - acc: 0.6850 - val_loss: 0.8405 - val_acc: 0.4375\n",
      "Epoch 10/15\n",
      "37/37 [==============================] - 32s 869ms/step - loss: 0.5514 - acc: 0.6985 - val_loss: 0.8262 - val_acc: 0.5000\n",
      "Epoch 11/15\n",
      "37/37 [==============================] - 32s 875ms/step - loss: 0.5629 - acc: 0.6943 - val_loss: 0.9533 - val_acc: 0.3750\n",
      "Epoch 12/15\n",
      "37/37 [==============================] - 33s 892ms/step - loss: 0.5485 - acc: 0.7145 - val_loss: 0.5341 - val_acc: 0.6667\n",
      "Epoch 13/15\n",
      "37/37 [==============================] - 32s 872ms/step - loss: 0.5275 - acc: 0.7129 - val_loss: 0.8451 - val_acc: 0.5625\n",
      "Epoch 14/15\n",
      "37/37 [==============================] - 32s 870ms/step - loss: 0.5137 - acc: 0.7373 - val_loss: 0.9932 - val_acc: 0.3333\n",
      "Epoch 15/15\n",
      "37/37 [==============================] - 32s 874ms/step - loss: 0.5125 - acc: 0.7390 - val_loss: 0.7726 - val_acc: 0.5312\n"
     ]
    }
   ],
   "source": [
    "'''\n",
    "train model and generate history callback\n",
    "'''\n",
    "\n",
    "history = History()\n",
    "\n",
    "history = model.fit_generator(\n",
    "        train_generator,\n",
    "        steps_per_epoch = train_samples // batch_size,\n",
    "        epochs=epoch,\n",
    "        validation_data = validation_generator,\n",
    "        validation_steps = validation_samples // batch_size,\n",
    "        callbacks=[history])\n",
    "model.save_weights('../../output/weights/vgg16_weights_Mar22.h5')  # always save your weights after training or during training\n",
    "\n",
    "\n"
   ]
  },
  {
   "cell_type": "code",
   "execution_count": 8,
   "metadata": {},
   "outputs": [
    {
     "data": {
      "image/png": "[encoded data removed]",
      "text/plain": [
       "<Figure size 432x288 with 1 Axes>"
      ]
     },
     "metadata": {
      "needs_background": "light"
     },
     "output_type": "display_data"
    }
   ],
   "source": [
    "'''\n",
    "plot training and validation loss and accuracy history\n",
    "'''\n",
    "\n",
    "fig = plt.figure(1)  \n",
    "\n",
    "# summarize history for accuracy  \n",
    "plt.plot(history.history['acc'])  \n",
    "plt.plot(history.history['val_acc'])  \n",
    "plt.plot(history.history['loss'])  \n",
    "plt.plot(history.history['val_loss'])  \n",
    "\n",
    "plt.title('model loss and accuracy')  \n",
    "plt.ylabel('loss/accuracy')  \n",
    "plt.xlabel('epoch')  \n",
    "plt.legend(['train_acc', 'val_acc', 'train_loss', 'val_loss'], loc='upper left')  \n",
    "\n",
    "plt.show()  "
   ]
  },
  {
   "cell_type": "code",
   "execution_count": null,
   "metadata": {},
   "outputs": [],
   "source": []
  }
 ],
 "metadata": {
  "kernelspec": {
   "display_name": "Python 3",
   "language": "python",
   "name": "python3"
  },
  "language_info": {
   "codemirror_mode": {
    "name": "ipython",
    "version": 3
   },
   "file_extension": ".py",
   "mimetype": "text/x-python",
   "name": "python",
   "nbconvert_exporter": "python",
   "pygments_lexer": "ipython3",
   "version": "3.6.8"
  }
 },
 "nbformat": 4,
 "nbformat_minor": 2
}
