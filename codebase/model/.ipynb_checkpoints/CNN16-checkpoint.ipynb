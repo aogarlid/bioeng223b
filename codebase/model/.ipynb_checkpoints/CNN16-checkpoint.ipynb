{
 "cells": [
  {
   "cell_type": "code",
   "execution_count": 1,
   "metadata": {},
   "outputs": [
    {
     "name": "stderr",
     "output_type": "stream",
     "text": [
      "Using TensorFlow backend.\n"
     ]
    }
   ],
   "source": [
    "# import os, re, and skimage packages to load images\n",
    "import os\n",
    "import re\n",
    "from skimage import io, color\n",
    "from skimage.color import rgb2gray\n",
    "from skimage.io import imread\n",
    "\n",
    "# import matplot for visualizing training results\n",
    "import matplotlib.pyplot as plt  \n",
    "\n",
    "# import keras packages to generate model\n",
    "from keras.preprocessing.image import ImageDataGenerator, array_to_img, img_to_array, load_img\n",
    "from keras.models import Sequential\n",
    "from keras.layers import Conv2D, MaxPooling2D\n",
    "from keras.layers import Activation, Dropout, Flatten, Dense\n",
    "from keras.utils import plot_model\n",
    "from keras.callbacks import History \n",
    "\n"
   ]
  },
  {
   "cell_type": "code",
   "execution_count": 2,
   "metadata": {},
   "outputs": [],
   "source": [
    "'''\n",
    "define import_images function to pull from directory, convert to grayscale, append to list\n",
    "'''\n",
    "def import_images(dir_name, images, image_names):\n",
    "    for root, dirnames, filenames in os.walk(dir_name):\n",
    "        for filename in filenames:\n",
    "            if re.search(\"\\.(jpg|jpeg|png|bmp|tiff)$\", filename):\n",
    "                filepath = os.path.join(root, filename)\n",
    "                image_names.append(filename)\n",
    "                \n",
    "                ## read images and add to list\n",
    "                image = io.imread(fname=filepath)\n",
    "                image_gray = rgb2gray(image)\n",
    "                images.append(image_gray)\n"
   ]
  },
  {
   "cell_type": "code",
   "execution_count": 6,
   "metadata": {},
   "outputs": [
    {
     "name": "stdout",
     "output_type": "stream",
     "text": [
      "1200\n",
      "38\n"
     ]
    }
   ],
   "source": [
    "'''\n",
    "establish expected image parameters, training, validation locations\n",
    "'''\n",
    "\n",
    "# expected image size\n",
    "img_width, img_height = 512, 512\n",
    "\n",
    "# folder containing the images on which the network will train. The train folder \n",
    "# has two sub folders, 'yes' and 'no' needle-containing images.\n",
    "train_data_dir = '../../data_culled/train'\n",
    "\n",
    "# folder containing the validation samples folder structure is same as the training folder\n",
    "validation_data_dir = '../../data_culled/validation'\n",
    "\n",
    "# how many images to be considered for training\n",
    "train_images = []\n",
    "train_names = []\n",
    "import_images(train_data_dir, train_images, train_names)\n",
    "train_samples = len(train_images)\n",
    "print(train_samples)\n",
    "\n",
    "# how many images to be used for validation\n",
    "validation_images = []\n",
    "validation_names = []\n",
    "import_images(validation_data_dir, validation_images, validation_names)\n",
    "validation_samples = len(validation_images)\n",
    "print(validation_samples)\n",
    "\n",
    "# set batch size\n",
    "batch_size = 32\n",
    "\n",
    "# how many runs will the network make over the training set before starting on validation\n",
    "epoch = 15\n"
   ]
  },
  {
   "cell_type": "code",
   "execution_count": 7,
   "metadata": {},
   "outputs": [
    {
     "name": "stdout",
     "output_type": "stream",
     "text": [
      "Found 1200 images belonging to 2 classes.\n",
      "Found 38 images belonging to 2 classes.\n"
     ]
    }
   ],
   "source": [
    "'''\n",
    "run image augmentation procedures\n",
    "'''\n",
    "\n",
    "# augmentation configuration for training\n",
    "train_datagen = ImageDataGenerator(\n",
    "        rescale=1./255,\n",
    "        horizontal_flip=True,\n",
    "        vertical_flip = True,\n",
    "        rotation_range=20)\n",
    "\n",
    "# augmentation configuration for testing:\n",
    "    # only rescaling\n",
    "test_datagen = ImageDataGenerator(rescale=1./255)\n",
    "\n",
    "# this is a generator that will read pictures found in\n",
    "# subfolders of 'data/train', and indefinitely generate\n",
    "# batches of augmented image data\n",
    "train_generator = train_datagen.flow_from_directory(\n",
    "        train_data_dir,\n",
    "        color_mode = 'grayscale',\n",
    "        target_size=(img_width, img_height),\n",
    "        batch_size=batch_size,\n",
    "        class_mode='binary')  # since we use binary_crossentropy loss, we need binary labels\n",
    "\n",
    "# this is a similar generator, for validation data\n",
    "validation_generator = test_datagen.flow_from_directory(\n",
    "        validation_data_dir,\n",
    "        color_mode = 'grayscale',\n",
    "        target_size=(img_width, img_height),\n",
    "        batch_size=batch_size,\n",
    "        class_mode='binary')"
   ]
  },
  {
   "cell_type": "code",
   "execution_count": 8,
   "metadata": {},
   "outputs": [],
   "source": [
    "'''\n",
    "build 16-layer VGG ConvNet\n",
    "'''\n",
    "\n",
    "model = Sequential()\n",
    "model.add(Conv2D(32, (3, 3), input_shape=(img_width, img_height, 1)))\n",
    "model.add(Activation('relu'))\n",
    "model.add(MaxPooling2D(pool_size=(2, 2)))\n",
    "\n",
    "model.add(Conv2D(32, (3, 3)))\n",
    "model.add(Activation('relu'))\n",
    "model.add(MaxPooling2D(pool_size=(2, 2)))\n",
    "\n",
    "model.add(Conv2D(64, (3, 3)))\n",
    "model.add(Activation('relu'))\n",
    "model.add(MaxPooling2D(pool_size=(2, 2)))\n",
    "\n",
    "model.add(Flatten())  # this converts our 3D feature maps to 1D feature vectors\n",
    "model.add(Dense(64))\n",
    "model.add(Activation('relu'))\n",
    "model.add(Dropout(0.5))\n",
    "model.add(Dense(1))\n",
    "model.add(Activation('sigmoid'))\n",
    "\n",
    "model.compile(loss='binary_crossentropy',\n",
    "              optimizer='adam',\n",
    "              metrics=['accuracy'])\n",
    "\n",
    "plot_model(model, to_file='../../output/models/vgg16_model.png')\n"
   ]
  },
  {
   "cell_type": "code",
   "execution_count": 9,
   "metadata": {},
   "outputs": [
    {
     "name": "stdout",
     "output_type": "stream",
     "text": [
      "Epoch 1/15\n",
      "37/37 [==============================] - 19s 513ms/step - loss: 0.6934 - acc: 0.5785 - val_loss: 0.7203 - val_acc: 0.5000\n",
      "Epoch 2/15\n",
      "37/37 [==============================] - 15s 403ms/step - loss: 0.5780 - acc: 0.7230 - val_loss: 1.1351 - val_acc: 0.3333\n",
      "Epoch 3/15\n",
      "37/37 [==============================] - 13s 364ms/step - loss: 0.4048 - acc: 0.8209 - val_loss: 0.9577 - val_acc: 0.5000\n",
      "Epoch 4/15\n",
      "37/37 [==============================] - 13s 359ms/step - loss: 0.2978 - acc: 0.8775 - val_loss: 0.7148 - val_acc: 0.6667\n",
      "Epoch 5/15\n",
      "37/37 [==============================] - 13s 362ms/step - loss: 0.2178 - acc: 0.9180 - val_loss: 0.9971 - val_acc: 0.4688\n",
      "Epoch 6/15\n",
      "37/37 [==============================] - 13s 361ms/step - loss: 0.1521 - acc: 0.9426 - val_loss: 1.5767 - val_acc: 0.5000\n",
      "Epoch 7/15\n",
      "37/37 [==============================] - 14s 367ms/step - loss: 0.0936 - acc: 0.9637 - val_loss: 1.6147 - val_acc: 0.4688\n",
      "Epoch 8/15\n",
      "37/37 [==============================] - 13s 362ms/step - loss: 0.0920 - acc: 0.9603 - val_loss: 0.9013 - val_acc: 0.5000\n",
      "Epoch 9/15\n",
      "37/37 [==============================] - 13s 363ms/step - loss: 0.0759 - acc: 0.9713 - val_loss: 1.9758 - val_acc: 0.5000\n",
      "Epoch 10/15\n",
      "37/37 [==============================] - 13s 361ms/step - loss: 0.0615 - acc: 0.9780 - val_loss: 1.4269 - val_acc: 0.6667\n",
      "Epoch 11/15\n",
      "37/37 [==============================] - 14s 365ms/step - loss: 0.0541 - acc: 0.9763 - val_loss: 2.2230 - val_acc: 0.5312\n",
      "Epoch 12/15\n",
      "37/37 [==============================] - 13s 362ms/step - loss: 0.0504 - acc: 0.9806 - val_loss: 2.7315 - val_acc: 0.1667\n",
      "Epoch 13/15\n",
      "37/37 [==============================] - 14s 366ms/step - loss: 0.0393 - acc: 0.9856 - val_loss: 2.3501 - val_acc: 0.5312\n",
      "Epoch 14/15\n",
      "37/37 [==============================] - 13s 361ms/step - loss: 0.0361 - acc: 0.9882 - val_loss: 2.8268 - val_acc: 0.1667\n",
      "Epoch 15/15\n",
      "37/37 [==============================] - 14s 367ms/step - loss: 0.0334 - acc: 0.9857 - val_loss: 3.0555 - val_acc: 0.4375\n"
     ]
    }
   ],
   "source": [
    "'''\n",
    "train model and generate history callback\n",
    "'''\n",
    "\n",
    "history = History()\n",
    "\n",
    "history = model.fit_generator(\n",
    "        train_generator,\n",
    "        steps_per_epoch = train_samples // batch_size,\n",
    "        epochs=epoch,\n",
    "        validation_data = validation_generator,\n",
    "        validation_steps = validation_samples // batch_size,\n",
    "        callbacks=[history])\n",
    "model.save_weights('../../output/weights/vgg16_weights_Mar22.h5')  # always save your weights after training or during training\n",
    "\n",
    "\n"
   ]
  },
  {
   "cell_type": "code",
   "execution_count": 10,
   "metadata": {},
   "outputs": [
    {
     "data": {
      "image/png": "[encoded data removed]",
      "text/plain": [
       "<Figure size 432x288 with 1 Axes>"
      ]
     },
     "metadata": {
      "needs_background": "light"
     },
     "output_type": "display_data"
    }
   ],
   "source": [
    "'''\n",
    "plot training and validation loss and accuracy history\n",
    "'''\n",
    "\n",
    "fig = plt.figure(1)  \n",
    "#fig.subplots_adjust(hspace=.75)\n",
    "\n",
    "# summarize history for accuracy  \n",
    "#plt.subplot(211)  \n",
    "plt.plot(history.history['acc'])  \n",
    "plt.plot(history.history['val_acc'])  \n",
    "plt.plot(history.history['loss'])  \n",
    "plt.plot(history.history['val_loss'])  \n",
    "\n",
    "plt.title('model loss and accuracy')  \n",
    "plt.ylabel('loss/accuracy')  \n",
    "plt.xlabel('epoch')  \n",
    "plt.legend(['train_acc', 'val_acc', 'train_loss', 'val_loss'], loc='upper left')  \n",
    "\n",
    "plt.show()  "
   ]
  },
  {
   "cell_type": "code",
   "execution_count": null,
   "metadata": {},
   "outputs": [],
   "source": []
  }
 ],
 "metadata": {
  "kernelspec": {
   "display_name": "Python 3",
   "language": "python",
   "name": "python3"
  },
  "language_info": {
   "codemirror_mode": {
    "name": "ipython",
    "version": 3
   },
   "file_extension": ".py",
   "mimetype": "text/x-python",
   "name": "python",
   "nbconvert_exporter": "python",
   "pygments_lexer": "ipython3",
   "version": "3.6.7"
  }
 },
 "nbformat": 4,
 "nbformat_minor": 2
}
