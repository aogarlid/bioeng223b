{
 "cells": [
  {
   "cell_type": "code",
   "execution_count": 102,
   "metadata": {},
   "outputs": [],
   "source": [
    "'''\n",
    "import necessary packages and functions\n",
    "'''\n",
    "\n",
    "import os\n",
    "import re\n",
    "import io\n",
    "import csv\n",
    "import cv2\n",
    "import random\n",
    "\n",
    "from skimage import io, color\n",
    "from skimage.color import rgb2gray\n",
    "from skimage.io import imsave, imshow, imread\n",
    "from skimage.transform import rescale, resize, downscale_local_mean\n"
   ]
  },
  {
   "cell_type": "code",
   "execution_count": 103,
   "metadata": {},
   "outputs": [],
   "source": [
    "'''\n",
    "import images from directory, convert to grayscale, append to list\n",
    "'''\n",
    "def import_images(dir_name, images, image_names):\n",
    "    for root, dirnames, filenames in os.walk(dir_name):\n",
    "        for filename in filenames:\n",
    "            if re.search(\"\\.(jpg|jpeg|png|bmp|tiff)$\", filename):\n",
    "                filepath = os.path.join(root, filename)\n",
    "                image_names.append(filename)\n",
    "                \n",
    "                ## read images and add to list\n",
    "                image = io.imread(fname=filepath)\n",
    "                image_gray = rgb2gray(image)\n",
    "                images.append(image_gray)\n",
    "\n",
    "image_dir = '../../dataset/images/'\n",
    "images = []\n",
    "image_names = []\n",
    "\n",
    "import_images(image_dir, images, image_names)\n",
    "            "
   ]
  },
  {
   "cell_type": "code",
   "execution_count": 104,
   "metadata": {},
   "outputs": [],
   "source": [
    "'''\n",
    "move images to 0/1 folders based on labels\n",
    "'''\n",
    "\n",
    "SOURCE_ROOT = '../../dataset/images/'\n",
    "DEST_ROOT = '../../dataset/'\n",
    "\n",
    "with open('../../dataset/image-labels.csv') as infile:\n",
    "    next(infile)  # Skip the header row\n",
    "    reader = csv.reader(infile)\n",
    "    seen = set()\n",
    "    for Order, External_ID, Label in reader:\n",
    "        src = os.path.join(SOURCE_ROOT, External_ID)\n",
    "        dest = os.path.join(DEST_ROOT, Label, External_ID)\n",
    "        try:\n",
    "            os.rename(src, dest)\n",
    "        except WindowsError as e:\n",
    "            print (e)\n",
    "            "
   ]
  },
  {
   "cell_type": "code",
   "execution_count": 101,
   "metadata": {},
   "outputs": [],
   "source": [
    "'''\n",
    "setup training, testing, and validation split\n",
    "'''\n",
    "            \n",
    "random.seed(420)\n",
    "def move_images(img_list, src_dir, dest_dir):\n",
    "    for img in img_list:\n",
    "        src = os.path.join(src_dir, img)\n",
    "        dest = os.path.join(dest_dir, img)\n",
    "        os.rename(src, dest)\n",
    "        \n",
    "def split_dataset(imgs, src_dir, train_dir, test_dir, validation_dir):\n",
    "    imgs.sort\n",
    "    random.shuffle(imgs)\n",
    "    split_1 = int(0.8 * len(imgs))\n",
    "    split_2 = int(0.9 * len(imgs))\n",
    "    train = imgs[:split_1]\n",
    "    validation = imgs[split_1:split_2]\n",
    "    test = imgs[split_2:]\n",
    "\n",
    "    move_images(train, src_dir, train_dir)\n",
    "    move_images(test, src_dir, test_dir)\n",
    "    move_images(validation, src_dir, validation_dir)\n"
   ]
  },
  {
   "cell_type": "code",
   "execution_count": 100,
   "metadata": {},
   "outputs": [
    {
     "ename": "FileNotFoundError",
     "evalue": "[Errno 2] No such file or directory: '../../dataset/1/11624.jpg' -> '../../data/test/0/11624.jpg'",
     "output_type": "error",
     "traceback": [
      "\u001b[0;31m---------------------------------------------------------------------------\u001b[0m",
      "\u001b[0;31mFileNotFoundError\u001b[0m                         Traceback (most recent call last)",
      "\u001b[0;32m<ipython-input-100-2387916739d6>\u001b[0m in \u001b[0;36m<module>\u001b[0;34m\u001b[0m\n\u001b[1;32m     20\u001b[0m \u001b[0mno_test\u001b[0m \u001b[0;34m=\u001b[0m \u001b[0;34m'../../data/test/0/'\u001b[0m\u001b[0;34m\u001b[0m\u001b[0;34m\u001b[0m\u001b[0m\n\u001b[1;32m     21\u001b[0m \u001b[0mno_validation\u001b[0m \u001b[0;34m=\u001b[0m \u001b[0;34m'../../data/validation/0/'\u001b[0m\u001b[0;34m\u001b[0m\u001b[0;34m\u001b[0m\u001b[0m\n\u001b[0;32m---> 22\u001b[0;31m \u001b[0msplit_dataset\u001b[0m\u001b[0;34m(\u001b[0m\u001b[0mno_names\u001b[0m\u001b[0;34m,\u001b[0m \u001b[0mno_dir\u001b[0m\u001b[0;34m,\u001b[0m \u001b[0mno_train\u001b[0m\u001b[0;34m,\u001b[0m \u001b[0mno_test\u001b[0m\u001b[0;34m,\u001b[0m \u001b[0mno_validation\u001b[0m\u001b[0;34m)\u001b[0m\u001b[0;34m\u001b[0m\u001b[0;34m\u001b[0m\u001b[0m\n\u001b[0m\u001b[1;32m     23\u001b[0m \u001b[0;34m\u001b[0m\u001b[0m\n\u001b[1;32m     24\u001b[0m \u001b[0;34m\u001b[0m\u001b[0m\n",
      "\u001b[0;32m<ipython-input-99-05e085596e7f>\u001b[0m in \u001b[0;36msplit_dataset\u001b[0;34m(imgs, src_dir, train_dir, test_dir, validation_dir)\u001b[0m\n\u001b[1;32m     20\u001b[0m \u001b[0;34m\u001b[0m\u001b[0m\n\u001b[1;32m     21\u001b[0m     \u001b[0mmove_images\u001b[0m\u001b[0;34m(\u001b[0m\u001b[0mtrain\u001b[0m\u001b[0;34m,\u001b[0m \u001b[0msrc_dir\u001b[0m\u001b[0;34m,\u001b[0m \u001b[0mtrain_dir\u001b[0m\u001b[0;34m)\u001b[0m\u001b[0;34m\u001b[0m\u001b[0;34m\u001b[0m\u001b[0m\n\u001b[0;32m---> 22\u001b[0;31m     \u001b[0mmove_images\u001b[0m\u001b[0;34m(\u001b[0m\u001b[0mtest\u001b[0m\u001b[0;34m,\u001b[0m \u001b[0myes_dir\u001b[0m\u001b[0;34m,\u001b[0m \u001b[0mtest_dir\u001b[0m\u001b[0;34m)\u001b[0m\u001b[0;34m\u001b[0m\u001b[0;34m\u001b[0m\u001b[0m\n\u001b[0m\u001b[1;32m     23\u001b[0m     \u001b[0mmove_images\u001b[0m\u001b[0;34m(\u001b[0m\u001b[0mvalidation\u001b[0m\u001b[0;34m,\u001b[0m \u001b[0myes_dir\u001b[0m\u001b[0;34m,\u001b[0m \u001b[0mvalidation_dir\u001b[0m\u001b[0;34m)\u001b[0m\u001b[0;34m\u001b[0m\u001b[0;34m\u001b[0m\u001b[0m\n",
      "\u001b[0;32m<ipython-input-99-05e085596e7f>\u001b[0m in \u001b[0;36mmove_images\u001b[0;34m(img_list, src_dir, dest_dir)\u001b[0m\n\u001b[1;32m      8\u001b[0m         \u001b[0msrc\u001b[0m \u001b[0;34m=\u001b[0m \u001b[0mos\u001b[0m\u001b[0;34m.\u001b[0m\u001b[0mpath\u001b[0m\u001b[0;34m.\u001b[0m\u001b[0mjoin\u001b[0m\u001b[0;34m(\u001b[0m\u001b[0msrc_dir\u001b[0m\u001b[0;34m,\u001b[0m \u001b[0mimg\u001b[0m\u001b[0;34m)\u001b[0m\u001b[0;34m\u001b[0m\u001b[0;34m\u001b[0m\u001b[0m\n\u001b[1;32m      9\u001b[0m         \u001b[0mdest\u001b[0m \u001b[0;34m=\u001b[0m \u001b[0mos\u001b[0m\u001b[0;34m.\u001b[0m\u001b[0mpath\u001b[0m\u001b[0;34m.\u001b[0m\u001b[0mjoin\u001b[0m\u001b[0;34m(\u001b[0m\u001b[0mdest_dir\u001b[0m\u001b[0;34m,\u001b[0m \u001b[0mimg\u001b[0m\u001b[0;34m)\u001b[0m\u001b[0;34m\u001b[0m\u001b[0;34m\u001b[0m\u001b[0m\n\u001b[0;32m---> 10\u001b[0;31m         \u001b[0mos\u001b[0m\u001b[0;34m.\u001b[0m\u001b[0mrename\u001b[0m\u001b[0;34m(\u001b[0m\u001b[0msrc\u001b[0m\u001b[0;34m,\u001b[0m \u001b[0mdest\u001b[0m\u001b[0;34m)\u001b[0m\u001b[0;34m\u001b[0m\u001b[0;34m\u001b[0m\u001b[0m\n\u001b[0m\u001b[1;32m     11\u001b[0m \u001b[0;34m\u001b[0m\u001b[0m\n\u001b[1;32m     12\u001b[0m \u001b[0;32mdef\u001b[0m \u001b[0msplit_dataset\u001b[0m\u001b[0;34m(\u001b[0m\u001b[0mimgs\u001b[0m\u001b[0;34m,\u001b[0m \u001b[0msrc_dir\u001b[0m\u001b[0;34m,\u001b[0m \u001b[0mtrain_dir\u001b[0m\u001b[0;34m,\u001b[0m \u001b[0mtest_dir\u001b[0m\u001b[0;34m,\u001b[0m \u001b[0mvalidation_dir\u001b[0m\u001b[0;34m)\u001b[0m\u001b[0;34m:\u001b[0m\u001b[0;34m\u001b[0m\u001b[0;34m\u001b[0m\u001b[0m\n",
      "\u001b[0;31mFileNotFoundError\u001b[0m: [Errno 2] No such file or directory: '../../dataset/1/11624.jpg' -> '../../data/test/0/11624.jpg'"
     ]
    }
   ],
   "source": [
    "'''\n",
    "move images to appropriate folder for training, testing, and validation\n",
    "'''\n",
    "yes_dir = '../../dataset/1/'\n",
    "yes_imgs = []\n",
    "yes_names = []\n",
    "import_images(yes_dir, yes_imgs, yes_names)\n",
    "\n",
    "yes_train = '../../data/train/1/'\n",
    "yes_test = '../../data/test/1/'\n",
    "yes_validation = '../../data/validation/1/'\n",
    "split_dataset(yes_names, yes_dir, yes_train, yes_test, yes_validation)\n",
    "\n",
    "no_dir = '../../dataset/0/'\n",
    "no_imgs = []\n",
    "no_names = []\n",
    "import_images(no_dir, no_imgs, no_names)\n",
    "\n",
    "no_train = '../../data/train/0/'\n",
    "no_test = '../../data/test/0/'\n",
    "no_validation = '../../data/validation/0/'\n",
    "split_dataset(no_names, no_dir, no_train, no_test, no_validation)\n",
    "\n",
    "    "
   ]
  },
  {
   "cell_type": "code",
   "execution_count": null,
   "metadata": {},
   "outputs": [],
   "source": [
    "# move yes training data\n",
    "move_images(yes_train, yes_dir, '../../data/train/1/')\n",
    "# move yes testing data\n",
    "move_images(yes_test, yes_dir, '../../data/test/1/')\n",
    "# move yes validation data\n",
    "move_images(yes_validation, yes_dir, '../../data/validation/1/')\n",
    "\n",
    "\n",
    "# move no training data\n",
    "move_images(no_train, no_dir, '../../data/train/0/')\n",
    "# move no testing data\n",
    "move_images(no_test, no_dir, '../../data/test/0/')\n",
    "# move no validation data\n",
    "move_images(no_validation, no_dir, '../../data/validation/0/')\n",
    "\n"
   ]
  },
  {
   "cell_type": "code",
   "execution_count": 38,
   "metadata": {},
   "outputs": [],
   "source": [
    "'''\n",
    "amplify training dataset via image augmentation\n",
    "'''\n",
    "\n",
    "import random\n",
    "from scipy import ndarray\n",
    "import skimage as sk\n",
    "from skimage import transform\n",
    "from skimage import util\n",
    "\n",
    "def random_rotation(image_array: ndarray):\n",
    "    # pick a random degree of rotation between 25% on the left and 25% on the right\n",
    "    random_degree = random.uniform(-25, 25)\n",
    "    return sk.transform.rotate(image_array, random_degree)\n",
    "\n",
    "def horizontal_flip(image_array: ndarray):\n",
    "    # horizontal flip doesn't need skimage, it's easy as flipping the image array of pixels !\n",
    "    return image_array[:, ::-1]\n",
    "\n",
    "def vertical_flip(image_array: ndarray):\n",
    "    # vertical flip doesn't need skimage, it's easy as flipping the image array of pixels !\n",
    "    return image_array[::-1, :]\n"
   ]
  },
  {
   "cell_type": "code",
   "execution_count": 53,
   "metadata": {},
   "outputs": [],
   "source": [
    "'''\n",
    "apply rotation and both horizontal and vertical flips to all images in train folders\n",
    "'''\n",
    "img_dir = '../../data/train/1'\n",
    "aug_dir = '../../transformed/1/'\n",
    "imgs = []\n",
    "img_names = []\n",
    "\n",
    "import_images(img_dir, imgs, img_names)\n",
    "\n"
   ]
  },
  {
   "cell_type": "code",
   "execution_count": 54,
   "metadata": {},
   "outputs": [],
   "source": [
    "for i in range(len(imgs)):\n",
    "    img_name = img_names[i]\n",
    "    \n",
    "    himg = horizontal_flip(imgs[i])\n",
    "    hfilename='{}{}{}'.format(aug_dir, 'himg', img_name)\n",
    "    cv2.imwrite(hfilename, himg)\n",
    "\n",
    "    vimg = vertical_flip(imgs[i])\n",
    "    vfilename='{}{}{}'.format(aug_dir, 'vimg', img_name)\n",
    "    cv2.imwrite(vfilename, vimg)\n",
    "    \n",
    "    hvimg = horizontal_flip(vimg)\n",
    "    hvfilename='{}{}{}'.format(aug_dir, 'hvimg', img_name)\n",
    "    cv2.imwrite(hvfilename, hvimg)\n",
    "    \n",
    "    rimg = random_rotation(imgs[i])\n",
    "    rfilename='{}{}{}'.format(aug_dir, 'rimg', img_name)\n",
    "    cv2.imwrite(rfilename, rimg)\n",
    "    "
   ]
  }
 ],
 "metadata": {
  "kernelspec": {
   "display_name": "Python 3",
   "language": "python",
   "name": "python3"
  },
  "language_info": {
   "codemirror_mode": {
    "name": "ipython",
    "version": 3
   },
   "file_extension": ".py",
   "mimetype": "text/x-python",
   "name": "python",
   "nbconvert_exporter": "python",
   "pygments_lexer": "ipython3",
   "version": "3.6.7"
  }
 },
 "nbformat": 4,
 "nbformat_minor": 2
}
